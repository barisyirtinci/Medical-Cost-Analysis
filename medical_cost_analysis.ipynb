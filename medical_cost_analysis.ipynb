{
  "nbformat": 4,
  "nbformat_minor": 0,
  "metadata": {
    "colab": {
      "provenance": []
    },
    "kernelspec": {
      "name": "python3",
      "display_name": "Python 3"
    },
    "language_info": {
      "name": "python"
    }
  },
  "cells": [
    {
      "cell_type": "code",
      "source": [
        "# Import Libraries\n",
        "import pandas as pd\n",
        "import numpy as np\n",
        "import seaborn as sns\n",
        "import matplotlib.pyplot as plt"
      ],
      "metadata": {
        "id": "1Uw1_uVrrSKo"
      },
      "execution_count": 2,
      "outputs": []
    },
    {
      "cell_type": "code",
      "source": [
        "# Load DataFrame and Create Instance\n",
        "insurance = pd.read_csv(\"insurance.csv\")\n",
        "df = insurance.copy()"
      ],
      "metadata": {
        "id": "0QGr8msfrtxu"
      },
      "execution_count": 4,
      "outputs": []
    },
    {
      "cell_type": "code",
      "source": [
        "# Print data (first 5 rows)\n",
        "df.head()"
      ],
      "metadata": {
        "id": "b4bMF0HssUk7"
      },
      "execution_count": null,
      "outputs": []
    },
    {
      "cell_type": "code",
      "source": [
        "# Check the df for null values\n",
        "df.isna().sum()"
      ],
      "metadata": {
        "id": "ZV1pFMUnskv4"
      },
      "execution_count": null,
      "outputs": []
    },
    {
      "cell_type": "code",
      "source": [
        "# Check the df for data types\n",
        "df.info()"
      ],
      "metadata": {
        "id": "susWLyXcs-HS"
      },
      "execution_count": null,
      "outputs": []
    },
    {
      "cell_type": "code",
      "source": [
        "# Print data statistics\n",
        "df.describe()"
      ],
      "metadata": {
        "id": "N3dqLvLZtCNk"
      },
      "execution_count": null,
      "outputs": []
    },
    {
      "cell_type": "markdown",
      "source": [
        "# **3.Exploratory Data Analysis**"
      ],
      "metadata": {
        "id": "QVSMJd9Uw7QE"
      }
    },
    {
      "cell_type": "code",
      "source": [
        "# Examine the distribution of Bmi (Body Mass Index)\n",
        "sns.histplot(df['bmi'], color='blue', bins=30)\n",
        "plt.title('Distribution of BMI')\n",
        "plt.xlabel('BMI')\n",
        "plt.ylabel('Frequency')\n",
        "plt.show()"
      ],
      "metadata": {
        "id": "PRdtilAIuNw-"
      },
      "execution_count": null,
      "outputs": []
    },
    {
      "cell_type": "code",
      "source": [
        "# Examine the relationship between “smoker” and “charges”\n",
        "sns.boxplot(x='smoker', y='charges', data=df)\n",
        "plt.title(\"Relationship between “smoker” and 'charges'\")\n",
        "plt.xlabel('Smoker')\n",
        "plt.ylabel('Charges')\n",
        "plt.show()"
      ],
      "metadata": {
        "id": "0AGeasvBxGKG"
      },
      "execution_count": null,
      "outputs": []
    },
    {
      "cell_type": "code",
      "source": [
        "# Examine the relationship between “smoker” and “region”\n",
        "sns.barplot(x='region', y='charges', hue='smoker', data=df, palette=['tab:red','tab:green'])\n",
        "plt.title(\"Relationship Between 'smoker' and 'region'\")\n",
        "plt.xlabel('region')\n",
        "plt.ylabel('charges')\n",
        "plt.show()"
      ],
      "metadata": {
        "id": "DetxcKz-4wF-"
      },
      "execution_count": null,
      "outputs": []
    },
    {
      "cell_type": "code",
      "source": [
        "# Examine the relationship between “bmi” and “sex”\n",
        "sns.boxplot(x='sex', y='bmi', data=df, palette=['tab:pink','tab:blue'])\n",
        "plt.title(\"Relationship Between 'bmi' and 'sex'\")\n",
        "plt.xlabel('sex')\n",
        "plt.ylabel('bmi')\n",
        "plt.show()"
      ],
      "metadata": {
        "id": "8DFudkS_5uRn"
      },
      "execution_count": null,
      "outputs": []
    },
    {
      "cell_type": "code",
      "source": [
        "# Find the \"region\" with the most \"children\"\n",
        "sum_children = df.groupby(\"region\")[\"children\"].sum()\n",
        "most_region = sum_children.idxmax()\n",
        "number_of_most = sum_children[most_region]\n",
        "print(f\"Region with the most children is {most_region}, number of the children is {number_of_most}.\")"
      ],
      "metadata": {
        "id": "OQ0p2-lY6FED"
      },
      "execution_count": null,
      "outputs": []
    },
    {
      "cell_type": "code",
      "source": [
        "# Examine the relationship between “age” and “bmi”\n",
        "sns.scatterplot(data=df, x='age', y='bmi')\n",
        "plt.title(\"Relationship between 'age' and 'bmi'\")\n",
        "plt.xlabel('AGE')\n",
        "plt.ylabel('BMI')\n",
        "plt.show()"
      ],
      "metadata": {
        "id": "AOzlGA3ubvNK"
      },
      "execution_count": null,
      "outputs": []
    },
    {
      "cell_type": "code",
      "source": [
        "# Examine the relationship between “bmi” and “children”\n",
        "plt.scatter(df[\"children\"], df[\"bmi\"], alpha=0.5)\n",
        "plt.title(\"Relationship Between 'bmi' and 'children'\")\n",
        "plt.xlabel(\"children\")\n",
        "plt.ylabel(\"BMI\")\n",
        "plt.grid(True)\n",
        "plt.show()"
      ],
      "metadata": {
        "id": "zImZ1U77cazL"
      },
      "execution_count": null,
      "outputs": []
    },
    {
      "cell_type": "markdown",
      "source": [
        "***Is there an outlier in the \"bmi\" variable? Please review.***\n",
        "\n",
        "    -As we have seen above, there is no meaningful correlation between 'bmi' and 'children' values.\n",
        "\n",
        "\n"
      ],
      "metadata": {
        "id": "hU_nVFisd06l"
      }
    },
    {
      "cell_type": "code",
      "source": [
        "# Examine the relationship between “bmi” and “charges”\n",
        "plt.scatter(df[\"bmi\"], df[\"charges\"], alpha=0.6)\n",
        "plt.title(\"Relationship Between 'BMI' and 'Charges'\")\n",
        "plt.xlabel(\"BMI\")\n",
        "plt.ylabel(\"Charges\")\n",
        "plt.grid(True)\n",
        "plt.show()"
      ],
      "metadata": {
        "id": "Kp8Fc2nperrU"
      },
      "execution_count": null,
      "outputs": []
    },
    {
      "cell_type": "code",
      "source": [
        "# Examine the relationship between “region”, “smoker” and “bmi” using bar plot.\n",
        "sns.barplot(x=\"region\", y=\"bmi\", hue=\"smoker\",palette=['tab:red','tab:green'], data=df)\n",
        "plt.title(\"Relationship between 'region', 'smoker' and 'bmi'\")\n",
        "plt.xlabel(\"Region\")\n",
        "plt.ylabel(\"BMI\")\n",
        "plt.legend(title=\"Smoker\")\n",
        "plt.show()"
      ],
      "metadata": {
        "id": "jmJCflcrgaKV"
      },
      "execution_count": null,
      "outputs": []
    },
    {
      "cell_type": "markdown",
      "source": [
        "# **4. Data Preprocessing**"
      ],
      "metadata": {
        "id": "2VMBAdZRhPtQ"
      }
    },
    {
      "cell_type": "code",
      "source": [],
      "metadata": {
        "id": "S505tF29hdN5"
      },
      "execution_count": null,
      "outputs": []
    }
  ]
}